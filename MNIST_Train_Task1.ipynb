{
  "cells": [
    {
      "cell_type": "markdown",
      "metadata": {
        "id": "view-in-github"
      },
      "source": [
        "<a href=\"https://colab.research.google.com/github/shreyasrajesh0308/ECE188DeepLearning/blob/main/MNIST_Train_Task1.ipynb\" target=\"_parent\"><img src=\"https://colab.research.google.com/assets/colab-badge.svg\" alt=\"Open In Colab\"/></a>"
      ]
    },
    {
      "cell_type": "markdown",
      "source": [
        "# Project 2- ECE 188, Spring 2022 - Deadline: June 10th, 2022. Please upload a link to your Github on Gradescope.\n",
        "# Train a Deep Learning model on the MNIST dataset and evaluate it on a test set.\n",
        "\n",
        "The first part in this notebook will take you though the training of the [MNIST Dataset](http://yann.lecun.com/exdb/mnist/) which is a collection of handwritten digits. \n",
        "\n",
        "We will build a Deep Learning based system that can recognise handwritten digits using [Keras](https://keras.io/) and [Tensorflow](https://www.tensorflow.org/). \n",
        "\n",
        "Note that the entire project will be done on a Google Colab. A tutorial to some basic colab instructions can be found [here](https://colab.research.google.com/?utm_source=scs-index#scrollTo=GJBs_flRovLc). \n",
        "\n",
        "Note that all the code needed is provided until Task 1, **you will only have to write code after the task 1 header**"
      ],
      "metadata": {
        "id": "a-utSW-VUF2y"
      }
    },
    {
      "cell_type": "markdown",
      "source": [
        "## Import Necessary Packages\n",
        "\n",
        "We import Keras and Tensorflow to train our network and numpy to work with our data. \n",
        "\n",
        "We also import matplotlib to view our images. "
      ],
      "metadata": {
        "id": "fgnHUBjoUTcy"
      }
    },
    {
      "cell_type": "code",
      "execution_count": null,
      "metadata": {
        "id": "aDvD8R1TbbOi"
      },
      "outputs": [],
      "source": [
        "import numpy as np\n",
        "import tensorflow as tf\n",
        "from tensorflow import keras\n",
        "from keras import layers\n"
      ]
    },
    {
      "cell_type": "code",
      "source": [
        "import matplotlib as mpl\n",
        "import matplotlib.pyplot as plt\n",
        "\n",
        "mpl.rcParams['figure.figsize'] = (8, 8)\n",
        "mpl.rcParams['axes.grid'] = False\n"
      ],
      "metadata": {
        "id": "OdYVH66MUciD"
      },
      "execution_count": null,
      "outputs": []
    },
    {
      "cell_type": "markdown",
      "source": [
        "# Load the Data\n",
        "\n",
        "We perform some data preprocessing. Feel free to skip over this and use the train and test data as x_train and x_test"
      ],
      "metadata": {
        "id": "yuFHL78kUez_"
      }
    },
    {
      "cell_type": "code",
      "execution_count": null,
      "metadata": {
        "id": "2iKGDDuDbhRM",
        "colab": {
          "base_uri": "https://localhost:8080/"
        },
        "outputId": "794733a8-db69-4dfb-81b3-f7c7c046f627"
      },
      "outputs": [
        {
          "output_type": "stream",
          "name": "stdout",
          "text": [
            "Downloading data from https://storage.googleapis.com/tensorflow/tf-keras-datasets/mnist.npz\n",
            "11493376/11490434 [==============================] - 0s 0us/step\n",
            "11501568/11490434 [==============================] - 0s 0us/step\n",
            "x_train shape: (60000, 28, 28, 1)\n",
            "60000 train samples\n",
            "10000 test samples\n"
          ]
        }
      ],
      "source": [
        "# Model / data parameters\n",
        "num_classes = 10\n",
        "input_shape = (28, 28, 1)\n",
        "\n",
        "# the data, split between train and test sets\n",
        "(x_train, y_train), (x_test, y_test) = keras.datasets.mnist.load_data()\n",
        "\n",
        "# Scale images to the [0, 1] range\n",
        "x_train = x_train.astype(\"float32\") / 255\n",
        "x_test = x_test.astype(\"float32\") / 255\n",
        "# Make sure images have shape (28, 28, 1)\n",
        "x_train = np.expand_dims(x_train, -1)\n",
        "x_test = np.expand_dims(x_test, -1)\n",
        "print(\"x_train shape:\", x_train.shape)\n",
        "print(x_train.shape[0], \"train samples\")\n",
        "print(x_test.shape[0], \"test samples\")\n",
        "\n",
        "\n",
        "# convert class vectors to binary class matrices\n",
        "y_train = keras.utils.to_categorical(y_train, num_classes)\n",
        "y_test = keras.utils.to_categorical(y_test, num_classes)\n"
      ]
    },
    {
      "cell_type": "markdown",
      "source": [
        "## Define a model in keras.\n",
        "\n",
        "\n",
        " We define a simple simple network with 2 hidden layers. One fully connected dense layer with 8 neurons and onr flatten layer that flattens the model into 1D structure which is then fed into a softmax output.\n",
        "\n",
        "This is a barebones keras structure. In task 1 you will be tasked with improving this model. "
      ],
      "metadata": {
        "id": "tEDsgxIcuv0B"
      }
    },
    {
      "cell_type": "code",
      "source": [
        "model = keras.Sequential(\n",
        "    [\n",
        "        keras.Input(shape=input_shape),\n",
        "        layers.Dense(8,activation=\"relu\"),\n",
        "        layers.Flatten(),\n",
        "        layers.Dense(num_classes, activation=\"softmax\"),\n",
        "    ]\n",
        ")\n",
        "\n",
        "model.summary()\n"
      ],
      "metadata": {
        "colab": {
          "base_uri": "https://localhost:8080/"
        },
        "id": "Kb3ONTl8Odrq",
        "outputId": "5c978b4d-d8c3-4eb0-ade8-6179d1a0069a"
      },
      "execution_count": null,
      "outputs": [
        {
          "output_type": "stream",
          "name": "stdout",
          "text": [
            "Model: \"sequential\"\n",
            "_________________________________________________________________\n",
            " Layer (type)                Output Shape              Param #   \n",
            "=================================================================\n",
            " dense (Dense)               (None, 28, 28, 8)         16        \n",
            "                                                                 \n",
            " flatten (Flatten)           (None, 6272)              0         \n",
            "                                                                 \n",
            " dense_1 (Dense)             (None, 10)                62730     \n",
            "                                                                 \n",
            "=================================================================\n",
            "Total params: 62,746\n",
            "Trainable params: 62,746\n",
            "Non-trainable params: 0\n",
            "_________________________________________________________________\n"
          ]
        }
      ]
    },
    {
      "cell_type": "markdown",
      "source": [
        "## Compile and train the model \n",
        "\n",
        "We know train our model. Before we do that we need to set some parameters to train the model. Hence we define the loss and optimizer to be used as well as batch size. The number of epochs refers to the number of training iterations. "
      ],
      "metadata": {
        "id": "7qepS8u7VJXF"
      }
    },
    {
      "cell_type": "code",
      "source": [
        "batch_size = 128\n",
        "epochs = 15\n",
        "\n",
        "model.compile(loss=\"categorical_crossentropy\", optimizer=\"adam\", metrics=[\"accuracy\"])\n",
        "\n",
        "model.fit(x_train, y_train, batch_size=batch_size, epochs=epochs, validation_split=0.1)\n"
      ],
      "metadata": {
        "colab": {
          "base_uri": "https://localhost:8080/"
        },
        "id": "3cwCRnA2OgPY",
        "outputId": "60043680-2040-49d7-ae2d-a3cd64ebb705"
      },
      "execution_count": null,
      "outputs": [
        {
          "output_type": "stream",
          "name": "stdout",
          "text": [
            "Epoch 1/15\n",
            "422/422 [==============================] - 5s 4ms/step - loss: 0.5868 - accuracy: 0.8569 - val_loss: 0.2768 - val_accuracy: 0.9230\n",
            "Epoch 2/15\n",
            "422/422 [==============================] - 2s 4ms/step - loss: 0.3158 - accuracy: 0.9099 - val_loss: 0.2456 - val_accuracy: 0.9278\n",
            "Epoch 3/15\n",
            "422/422 [==============================] - 2s 4ms/step - loss: 0.2906 - accuracy: 0.9169 - val_loss: 0.2307 - val_accuracy: 0.9355\n",
            "Epoch 4/15\n",
            "422/422 [==============================] - 2s 4ms/step - loss: 0.2792 - accuracy: 0.9208 - val_loss: 0.2328 - val_accuracy: 0.9367\n",
            "Epoch 5/15\n",
            "422/422 [==============================] - 2s 4ms/step - loss: 0.2717 - accuracy: 0.9241 - val_loss: 0.2287 - val_accuracy: 0.9372\n",
            "Epoch 6/15\n",
            "422/422 [==============================] - 2s 4ms/step - loss: 0.2673 - accuracy: 0.9247 - val_loss: 0.2294 - val_accuracy: 0.9348\n",
            "Epoch 7/15\n",
            "422/422 [==============================] - 2s 4ms/step - loss: 0.2638 - accuracy: 0.9269 - val_loss: 0.2247 - val_accuracy: 0.9370\n",
            "Epoch 8/15\n",
            "422/422 [==============================] - 2s 4ms/step - loss: 0.2608 - accuracy: 0.9276 - val_loss: 0.2232 - val_accuracy: 0.9378\n",
            "Epoch 9/15\n",
            "422/422 [==============================] - 2s 4ms/step - loss: 0.2579 - accuracy: 0.9279 - val_loss: 0.2290 - val_accuracy: 0.9358\n",
            "Epoch 10/15\n",
            "422/422 [==============================] - 2s 4ms/step - loss: 0.2560 - accuracy: 0.9284 - val_loss: 0.2251 - val_accuracy: 0.9372\n",
            "Epoch 11/15\n",
            "422/422 [==============================] - 2s 4ms/step - loss: 0.2536 - accuracy: 0.9293 - val_loss: 0.2232 - val_accuracy: 0.9385\n",
            "Epoch 12/15\n",
            "422/422 [==============================] - 2s 4ms/step - loss: 0.2524 - accuracy: 0.9292 - val_loss: 0.2254 - val_accuracy: 0.9397\n",
            "Epoch 13/15\n",
            "422/422 [==============================] - 2s 5ms/step - loss: 0.2510 - accuracy: 0.9297 - val_loss: 0.2262 - val_accuracy: 0.9400\n",
            "Epoch 14/15\n",
            "422/422 [==============================] - 2s 4ms/step - loss: 0.2491 - accuracy: 0.9304 - val_loss: 0.2278 - val_accuracy: 0.9385\n",
            "Epoch 15/15\n",
            "422/422 [==============================] - 2s 4ms/step - loss: 0.2479 - accuracy: 0.9317 - val_loss: 0.2290 - val_accuracy: 0.9375\n"
          ]
        },
        {
          "output_type": "execute_result",
          "data": {
            "text/plain": [
              "<keras.callbacks.History at 0x7f6c80575bd0>"
            ]
          },
          "metadata": {},
          "execution_count": 7
        }
      ]
    },
    {
      "cell_type": "markdown",
      "source": [
        "## Evaluate the model "
      ],
      "metadata": {
        "id": "2IscBu-nVLw3"
      }
    },
    {
      "cell_type": "code",
      "source": [
        "score = model.evaluate(x_test, y_test, verbose=0)\n",
        "print(\"Test loss:\", score[0])\n",
        "print(\"Test accuracy:\", score[1])\n"
      ],
      "metadata": {
        "colab": {
          "base_uri": "https://localhost:8080/"
        },
        "id": "SCRqjgb_OiN7",
        "outputId": "4b067df7-70d5-40ec-be3d-9fa4710b0d05"
      },
      "execution_count": null,
      "outputs": [
        {
          "output_type": "stream",
          "name": "stdout",
          "text": [
            "Test loss: 0.2705859839916229\n",
            "Test accuracy: 0.9262999892234802\n"
          ]
        }
      ]
    },
    {
      "cell_type": "markdown",
      "source": [
        "We achieve an accuracy on the test set of 92% but can we do better?"
      ],
      "metadata": {
        "id": "nSdY-BY5vKZb"
      }
    },
    {
      "cell_type": "markdown",
      "source": [
        "## Looking at a prediction.\n",
        "\n",
        "Lets look at the prediction for a particular image in our model. We will look at one corect and one incorrect prediction and see if we can improve on the incorrect prediction. "
      ],
      "metadata": {
        "id": "y9a6QtAJ4Xby"
      }
    },
    {
      "cell_type": "code",
      "source": [
        "def get_mnist_label(image_probs):\n",
        "\n",
        "  return np.argmax(image_probs), np.max(image_probs)"
      ],
      "metadata": {
        "id": "g3uyTJ6253Jv"
      },
      "execution_count": null,
      "outputs": []
    },
    {
      "cell_type": "code",
      "source": [
        "preds = model.predict(x_test)\n",
        "\n",
        "image = x_test[0].reshape(input_shape[0], input_shape[1])\n",
        "label = np.argmax(y_test[0])\n",
        "image_probs = preds[0]"
      ],
      "metadata": {
        "id": "sZP5HsZO5OyY"
      },
      "execution_count": null,
      "outputs": []
    },
    {
      "cell_type": "code",
      "source": [
        "plt.figure()\n",
        "plt.imshow(image*0.5 + 0.5)  # To change [-1, 1] to [0,1]\n",
        "image_class, class_confidence = get_mnist_label(image_probs)\n",
        "plt.title('{} : {:.2f}% Confidence'.format(image_class, class_confidence*100))\n",
        "plt.show()\n"
      ],
      "metadata": {
        "colab": {
          "base_uri": "https://localhost:8080/",
          "height": 499
        },
        "id": "AdIoM5GX5ygg",
        "outputId": "1e2ffd40-602e-4d9e-d80e-38c66a0fde3a"
      },
      "execution_count": null,
      "outputs": [
        {
          "output_type": "display_data",
          "data": {
            "text/plain": [
              "<Figure size 576x576 with 1 Axes>"
            ],
            "image/png": "[encoded data removed]"
          },
          "metadata": {
            "needs_background": "light"
          }
        }
      ]
    },
    {
      "cell_type": "code",
      "source": [
        "# Store the incorrect prediction index here\n",
        "incorrect_index = 0\n",
        "\n",
        "for i in range(preds.shape[0]):\n",
        "\n",
        "  if np.argmax(preds[i]) != np.argmax(y_test[i]):\n",
        "\n",
        "    incorrect_index = i\n",
        "\n",
        "image_incorrect = x_test[incorrect_index].reshape(input_shape[0], input_shape[1])"
      ],
      "metadata": {
        "id": "qmmsBM_E6DUc"
      },
      "execution_count": null,
      "outputs": []
    },
    {
      "cell_type": "code",
      "source": [
        "plt.figure()\n",
        "plt.imshow(image_incorrect*0.5 + 0.5)  # To change [-1, 1] to [0,1]\n",
        "image_class, class_confidence = get_mnist_label(preds[i])\n",
        "plt.title('{} : {:.2f}% Confidence'.format(image_class, class_confidence*100))\n",
        "plt.show()\n"
      ],
      "metadata": {
        "colab": {
          "base_uri": "https://localhost:8080/",
          "height": 499
        },
        "id": "HKsiOalv7Bsj",
        "outputId": "10f64d9d-15ed-4723-c232-9b5dfa9015a8"
      },
      "execution_count": null,
      "outputs": [
        {
          "output_type": "display_data",
          "data": {
            "text/plain": [
              "<Figure size 576x576 with 1 Axes>"
            ],
            "image/png": "[encoded data removed]"
          },
          "metadata": {
            "needs_background": "light"
          }
        }
      ]
    },
    {
      "cell_type": "markdown",
      "source": [
        "We see that a 3 has been predicted with high confidence as a 6 does this change with our improved model below?"
      ],
      "metadata": {
        "id": "VfSIJAF57dhy"
      }
    },
    {
      "cell_type": "markdown",
      "source": [
        "# Answer\n",
        "Yes it does. "
      ],
      "metadata": {
        "id": "niZvovidIBF7"
      }
    },
    {
      "cell_type": "markdown",
      "source": [
        " # TASK 1: Improve the accuracy of the model \n",
        "\n",
        "Your goal in task one is to improve the accuracy of the model on the test set. "
      ],
      "metadata": {
        "id": "LifPv5WJvSMu"
      }
    },
    {
      "cell_type": "markdown",
      "source": [
        "For image recogniton tasks convolutional neural networks work better than most other type of architectures. Your goal is to push the test accuracy above 99% percent. \n",
        "\n",
        "The following steps will get you there. \n",
        "\n",
        "1. Convert the 1st hidden Dense layer to a conv layer with 32 filters, a filter size of 3x3 and with relu activation. (I've done this step)\n",
        "2. Add a Maxpooling layer of size 2x2. \n",
        "3. Add another Conv layer with 64 filters, with a filter size of 3x3 with relu activation. \n",
        "4. Add a Maxpooling layer of size 2x2. \n",
        "5. Add Dropout to the layer after the Flatten layer. "
      ],
      "metadata": {
        "id": "nq8pen8-wdsh"
      }
    },
    {
      "cell_type": "code",
      "source": [
        "improved_model = keras.Sequential(\n",
        "    [\n",
        "        keras.Input(shape=input_shape),\n",
        "        layers.Conv2D(32, kernel_size=(3, 3), activation=\"relu\"),\n",
        "        layers.MaxPool2D(),\n",
        "        layers.Conv2D(64, kernel_size=(3,3), activation=\"relu\"),\n",
        "        layers.Flatten(),\n",
        "        layers.Dropout(0.5),\n",
        "        layers.Dense(num_classes, activation=\"softmax\"),\n",
        "    ]\n",
        ")\n",
        "\n",
        "improved_model.summary()\n"
      ],
      "metadata": {
        "id": "LeDUJgK2wb4l",
        "colab": {
          "base_uri": "https://localhost:8080/"
        },
        "outputId": "53abe9c7-5cdc-496e-d38f-96ba17a886ab"
      },
      "execution_count": null,
      "outputs": [
        {
          "output_type": "stream",
          "name": "stdout",
          "text": [
            "Model: \"sequential_1\"\n",
            "_________________________________________________________________\n",
            " Layer (type)                Output Shape              Param #   \n",
            "=================================================================\n",
            " conv2d (Conv2D)             (None, 26, 26, 32)        320       \n",
            "                                                                 \n",
            " max_pooling2d (MaxPooling2D  (None, 13, 13, 32)       0         \n",
            " )                                                               \n",
            "                                                                 \n",
            " conv2d_1 (Conv2D)           (None, 11, 11, 64)        18496     \n",
            "                                                                 \n",
            " flatten_1 (Flatten)         (None, 7744)              0         \n",
            "                                                                 \n",
            " dropout (Dropout)           (None, 7744)              0         \n",
            "                                                                 \n",
            " dense_2 (Dense)             (None, 10)                77450     \n",
            "                                                                 \n",
            "=================================================================\n",
            "Total params: 96,266\n",
            "Trainable params: 96,266\n",
            "Non-trainable params: 0\n",
            "_________________________________________________________________\n"
          ]
        }
      ]
    },
    {
      "cell_type": "markdown",
      "source": [
        "## Complile and train the improved model. "
      ],
      "metadata": {
        "id": "ffzFzyOZ0UG8"
      }
    },
    {
      "cell_type": "code",
      "source": [
        "batch_size = 128\n",
        "epochs = 15\n",
        "\n",
        "improved_model.compile(loss=\"categorical_crossentropy\", optimizer=\"adam\", metrics=[\"accuracy\"])\n",
        "\n",
        "improved_model.fit(x_train, y_train, batch_size=batch_size, epochs=epochs, validation_split=0.1)\n"
      ],
      "metadata": {
        "id": "aPBhYQml1OuH",
        "colab": {
          "base_uri": "https://localhost:8080/"
        },
        "outputId": "3c58c691-d9f7-42e0-dab4-579afcb93a56"
      },
      "execution_count": null,
      "outputs": [
        {
          "output_type": "stream",
          "name": "stdout",
          "text": [
            "Epoch 1/15\n",
            "422/422 [==============================] - 11s 6ms/step - loss: 0.2613 - accuracy: 0.9229 - val_loss: 0.0658 - val_accuracy: 0.9830\n",
            "Epoch 2/15\n",
            "422/422 [==============================] - 2s 5ms/step - loss: 0.0781 - accuracy: 0.9757 - val_loss: 0.0457 - val_accuracy: 0.9877\n",
            "Epoch 3/15\n",
            "422/422 [==============================] - 2s 5ms/step - loss: 0.0586 - accuracy: 0.9821 - val_loss: 0.0429 - val_accuracy: 0.9893\n",
            "Epoch 4/15\n",
            "422/422 [==============================] - 2s 5ms/step - loss: 0.0494 - accuracy: 0.9850 - val_loss: 0.0396 - val_accuracy: 0.9902\n",
            "Epoch 5/15\n",
            "422/422 [==============================] - 2s 5ms/step - loss: 0.0422 - accuracy: 0.9869 - val_loss: 0.0390 - val_accuracy: 0.9892\n",
            "Epoch 6/15\n",
            "422/422 [==============================] - 2s 5ms/step - loss: 0.0368 - accuracy: 0.9877 - val_loss: 0.0428 - val_accuracy: 0.9893\n",
            "Epoch 7/15\n",
            "422/422 [==============================] - 2s 6ms/step - loss: 0.0327 - accuracy: 0.9892 - val_loss: 0.0393 - val_accuracy: 0.9897\n",
            "Epoch 8/15\n",
            "422/422 [==============================] - 3s 6ms/step - loss: 0.0295 - accuracy: 0.9905 - val_loss: 0.0332 - val_accuracy: 0.9910\n",
            "Epoch 9/15\n",
            "422/422 [==============================] - 2s 5ms/step - loss: 0.0269 - accuracy: 0.9907 - val_loss: 0.0350 - val_accuracy: 0.9905\n",
            "Epoch 10/15\n",
            "422/422 [==============================] - 2s 5ms/step - loss: 0.0239 - accuracy: 0.9921 - val_loss: 0.0349 - val_accuracy: 0.9913\n",
            "Epoch 11/15\n",
            "422/422 [==============================] - 2s 6ms/step - loss: 0.0225 - accuracy: 0.9926 - val_loss: 0.0361 - val_accuracy: 0.9913\n",
            "Epoch 12/15\n",
            "422/422 [==============================] - 2s 5ms/step - loss: 0.0203 - accuracy: 0.9934 - val_loss: 0.0382 - val_accuracy: 0.9905\n",
            "Epoch 13/15\n",
            "422/422 [==============================] - 2s 5ms/step - loss: 0.0197 - accuracy: 0.9931 - val_loss: 0.0356 - val_accuracy: 0.9903\n",
            "Epoch 14/15\n",
            "422/422 [==============================] - 2s 5ms/step - loss: 0.0180 - accuracy: 0.9937 - val_loss: 0.0377 - val_accuracy: 0.9910\n",
            "Epoch 15/15\n",
            "422/422 [==============================] - 2s 5ms/step - loss: 0.0150 - accuracy: 0.9949 - val_loss: 0.0331 - val_accuracy: 0.9913\n"
          ]
        },
        {
          "output_type": "execute_result",
          "data": {
            "text/plain": [
              "<keras.callbacks.History at 0x7f6c8012f150>"
            ]
          },
          "metadata": {},
          "execution_count": 15
        }
      ]
    },
    {
      "cell_type": "markdown",
      "source": [
        "## Evaluate the Improved model. \n",
        "\n",
        "You should achieve a test accuracy of greater than 99%!\n",
        "\n",
        "If not the code will throw an assertion error. "
      ],
      "metadata": {
        "id": "7a7EZNcv1r9J"
      }
    },
    {
      "cell_type": "code",
      "source": [
        "score = improved_model.evaluate(x_test, y_test, verbose=0)\n",
        "print(\"Improved Test loss:\", score[0])\n",
        "print(\"Improved Test accuracy:\", score[1])\n",
        "\n",
        "assert score[1] > 0.99"
      ],
      "metadata": {
        "id": "lYKx0TKH2P6G",
        "colab": {
          "base_uri": "https://localhost:8080/"
        },
        "outputId": "74aed9ca-8e4b-439b-892a-a99faf5f04a3"
      },
      "execution_count": null,
      "outputs": [
        {
          "output_type": "stream",
          "name": "stdout",
          "text": [
            "Improved Test loss: 0.02903788536787033\n",
            "Improved Test accuracy: 0.9916999936103821\n"
          ]
        }
      ]
    },
    {
      "cell_type": "markdown",
      "source": [
        "## Looking at a prediction.\n",
        "\n",
        "Lets look at the prediction for a particular image in our model. We will look at one correct and one incorrect prediction and see if we can improve on the incorrect prediction. \n",
        "\n",
        "Check the predictions on the improved model, do you see improvements on the incorrect sample. "
      ],
      "metadata": {
        "id": "aD885MO57xoV"
      }
    },
    {
      "cell_type": "code",
      "source": [
        "improved_preds = improved_model.predict(x_test)\n",
        "\n",
        "image = x_test[0].reshape(input_shape[0], input_shape[1])\n",
        "label = np.argmax(y_test[0])\n",
        "image_probs = improved_preds[0]\n",
        "\n",
        "# Store the incorrect prediction index here\n",
        "incorrect_index = 0\n",
        "\n",
        "for i in range(improved_preds.shape[0]):\n",
        "\n",
        "  if np.argmax(improved_preds[i]) != np.argmax(y_test[i]):\n",
        "\n",
        "    incorrect_index = i\n",
        "\n",
        "image_incorrect = x_test[incorrect_index].reshape(input_shape[0], input_shape[1])"
      ],
      "metadata": {
        "id": "0ozaLxNg7xoW"
      },
      "execution_count": null,
      "outputs": []
    },
    {
      "cell_type": "code",
      "source": [
        "plt.figure()\n",
        "plt.imshow(image*0.5 + 0.5)  # To change [-1, 1] to [0,1]\n",
        "image_class, class_confidence = get_mnist_label(improved_preds[0])\n",
        "plt.title('{} : {:.2f}% Confidence'.format(image_class, class_confidence*100))\n",
        "plt.show()\n"
      ],
      "metadata": {
        "id": "y0qsS5jY7xoW",
        "colab": {
          "base_uri": "https://localhost:8080/",
          "height": 499
        },
        "outputId": "06f7bdb1-609e-41ed-ac53-a6dbf9b91afa"
      },
      "execution_count": null,
      "outputs": [
        {
          "output_type": "display_data",
          "data": {
            "text/plain": [
              "<Figure size 576x576 with 1 Axes>"
            ],
            "image/png": "[encoded data removed]"
          },
          "metadata": {
            "needs_background": "light"
          }
        }
      ]
    },
    {
      "cell_type": "code",
      "source": [
        "plt.figure()\n",
        "plt.imshow(image_incorrect*0.5 + 0.5)  # To change [-1, 1] to [0,1]\n",
        "image_class, class_confidence = get_mnist_label(improved_preds[i])\n",
        "plt.title('{} : {:.2f}% Confidence'.format(image_class, class_confidence*100))\n",
        "plt.show()\n"
      ],
      "metadata": {
        "id": "Dyj5CbQD7xoW",
        "colab": {
          "base_uri": "https://localhost:8080/",
          "height": 499
        },
        "outputId": "650782e9-d756-422a-c9c4-84a90816d72f"
      },
      "execution_count": null,
      "outputs": [
        {
          "output_type": "display_data",
          "data": {
            "text/plain": [
              "<Figure size 576x576 with 1 Axes>"
            ],
            "image/png": "[encoded data removed]"
          },
          "metadata": {
            "needs_background": "light"
          }
        }
      ]
    },
    {
      "cell_type": "markdown",
      "source": [
        "# Answer\n",
        "There are significant improvements to the improved model. I can't really tell how the image above is supposed to be a 2. If it's hard for a human to identify, I think that it is ok that the model missed this one. "
      ],
      "metadata": {
        "id": "6mbh_eabHaU6"
      }
    }
  ],
  "metadata": {
    "colab": {
      "name": "MNIST_Train_Task1.ipynb",
      "provenance": [],
      "collapsed_sections": []
    },
    "kernelspec": {
      "display_name": "Python 3",
      "name": "python3"
    },
    "language_info": {
      "name": "python"
    },
    "accelerator": "GPU"
  },
  "nbformat": 4,
  "nbformat_minor": 0
}